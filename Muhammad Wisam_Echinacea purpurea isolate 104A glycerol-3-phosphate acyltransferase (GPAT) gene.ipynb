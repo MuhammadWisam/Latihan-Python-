{
 "cells": [
  {
   "cell_type": "code",
   "execution_count": 1,
   "metadata": {},
   "outputs": [
    {
     "name": "stdout",
     "output_type": "stream",
     "text": [
      "b'<?xml version=\"1.0\" encoding=\"UTF-8\" ?>\\n<!DOCTYPE eInfoResult PUBLIC \"-//NLM//DTD einfo 20190110//EN\" \"https://eutils.ncbi.nlm.nih.gov/eutils/dtd/20190110/einfo.dtd\">\\n<eInfoResult>\\n<DbList>\\n\\n\\t<DbName>pubmed</DbName>\\n\\t<DbName>protein</DbName>\\n\\t<DbName>nuccore</DbName>\\n\\t<DbName>ipg</DbName>\\n\\t<DbName>nucleotide</DbName>\\n\\t<DbName>structure</DbName>\\n\\t<DbName>genome</DbName>\\n\\t<DbName>annotinfo</DbName>\\n\\t<DbName>assembly</DbName>\\n\\t<DbName>bioproject</DbName>\\n\\t<DbName>biosample</DbName>\\n\\t<DbName>blastdbinfo</DbName>\\n\\t<DbName>books</DbName>\\n\\t<DbName>cdd</DbName>\\n\\t<DbName>clinvar</DbName>\\n\\t<DbName>gap</DbName>\\n\\t<DbName>gapplus</DbName>\\n\\t<DbName>grasp</DbName>\\n\\t<DbName>dbvar</DbName>\\n\\t<DbName>gene</DbName>\\n\\t<DbName>gds</DbName>\\n\\t<DbName>geoprofiles</DbName>\\n\\t<DbName>homologene</DbName>\\n\\t<DbName>medgen</DbName>\\n\\t<DbName>mesh</DbName>\\n\\t<DbName>ncbisearch</DbName>\\n\\t<DbName>nlmcatalog</DbName>\\n\\t<DbName>omim</DbName>\\n\\t<DbName>orgtrack</DbName>\\n\\t<DbName>pmc</DbName>\\n\\t<DbName>popset</DbName>\\n\\t<DbName>proteinclusters</DbName>\\n\\t<DbName>pcassay</DbName>\\n\\t<DbName>protfam</DbName>\\n\\t<DbName>biosystems</DbName>\\n\\t<DbName>pccompound</DbName>\\n\\t<DbName>pcsubstance</DbName>\\n\\t<DbName>seqannot</DbName>\\n\\t<DbName>snp</DbName>\\n\\t<DbName>sra</DbName>\\n\\t<DbName>taxonomy</DbName>\\n\\t<DbName>biocollections</DbName>\\n\\t<DbName>gtr</DbName>\\n</DbList>\\n\\n</eInfoResult>\\n'\n"
     ]
    }
   ],
   "source": [
    "from Bio import Entrez\n",
    "\n",
    "Entrez.email = \"localuser@localhost.localdomain\" #Mandatory! Can be replaced with your personal email.\n",
    "\n",
    "#creating handle\n",
    "\n",
    "handle = Entrez.einfo() #invoking Bio.Entrez.einfo()\n",
    "\n",
    "print(handle.read())\n",
    "\n",
    "handle.close() #always close your handle after you finish"
   ]
  },
  {
   "cell_type": "code",
   "execution_count": 2,
   "metadata": {},
   "outputs": [
    {
     "name": "stdout",
     "output_type": "stream",
     "text": [
      "{'Count': '1053', 'RetMax': '20', 'RetStart': '0', 'IdList': ['1907667969', '1907667492', '974646684', '974646683', '974646682', '974646681', '974646680', '974646679', '974646678', '974646677', '974646676', '974646675', '974646674', '974646673', '974646672', '974646671', '974646670', '974646669', '974646668', '974646667'], 'TranslationSet': [{'From': 'Echinacea purpurea', 'To': '\"Echinacea purpurea\"[Organism] OR Echinacea purpurea[All Fields]'}], 'TranslationStack': [{'Term': '\"Echinacea purpurea\"[Organism]', 'Field': 'Organism', 'Count': '114', 'Explode': 'Y'}, {'Term': 'Echinacea purpurea[All Fields]', 'Field': 'All Fields', 'Count': '1053', 'Explode': 'N'}, 'OR', 'GROUP'], 'QueryTranslation': '\"Echinacea purpurea\"[Organism] OR Echinacea purpurea[All Fields]'}\n"
     ]
    }
   ],
   "source": [
    "from Bio import Entrez\n",
    "\n",
    "Entrez.email = \"localuser@localhost.localdomain\" #Mandatory! Can be replaced with your personal email.\n",
    "\n",
    "#creating handle\n",
    "\n",
    "handle = Entrez.esearch(db=\"nuccore\", term=\"Echinacea purpurea\")\n",
    "\n",
    "record = Entrez.read(handle)\n",
    "\n",
    "print(record)\n",
    "\n",
    "handle.close() #always close your handle after you finish"
   ]
  },
  {
   "cell_type": "code",
   "execution_count": 3,
   "metadata": {},
   "outputs": [
    {
     "name": "stdout",
     "output_type": "stream",
     "text": [
      "{'Count': '9', 'RetMax': '9', 'RetStart': '0', 'IdList': ['167888140', '167888138', '167888136', '167888134', '167888132', '167888130', '167888128', '167888126', '167888124'], 'TranslationSet': [{'From': 'Echinacea purpurea', 'To': '\"Echinacea purpurea\"[Organism] OR Echinacea purpurea[All Fields]'}], 'TranslationStack': [{'Term': '\"Echinacea purpurea\"[Organism]', 'Field': 'Organism', 'Count': '114', 'Explode': 'Y'}, {'Term': 'Echinacea purpurea[All Fields]', 'Field': 'All Fields', 'Count': '1053', 'Explode': 'N'}, 'OR', 'GROUP', {'Term': 'GPAT[All Fields]', 'Field': 'All Fields', 'Count': '822', 'Explode': 'N'}, 'AND', 'GROUP'], 'QueryTranslation': '(\"Echinacea purpurea\"[Organism] OR Echinacea purpurea[All Fields]) AND GPAT[All Fields]'}\n"
     ]
    }
   ],
   "source": [
    "from Bio import Entrez\n",
    "\n",
    "Entrez.email = \"localuser@localhost.localdomain\" #Mandatory! Can be replaced with your personal email.\n",
    "\n",
    "#creating handle\n",
    "\n",
    "handle = Entrez.esearch(db=\"nuccore\", term=\"Echinacea purpurea GPAT\")\n",
    "\n",
    "record = Entrez.read(handle)\n",
    "\n",
    "print(record)\n",
    "\n",
    "handle.close() #always close your handle after you finish"
   ]
  },
  {
   "cell_type": "code",
   "execution_count": 4,
   "metadata": {},
   "outputs": [
    {
     "name": "stdout",
     "output_type": "stream",
     "text": [
      "LOCUS       EU423812                1015 bp    DNA     linear   PLN 26-JUL-2016\n",
      "DEFINITION  Echinacea purpurea isolate 104A glycerol-3-phosphate\n",
      "            acyltransferase (GPAT) gene, GPAT-a allele, partial cds.\n",
      "ACCESSION   EU423812\n",
      "VERSION     EU423812.1\n",
      "KEYWORDS    .\n",
      "SOURCE      Echinacea purpurea\n",
      "  ORGANISM  Echinacea purpurea\n",
      "            Eukaryota; Viridiplantae; Streptophyta; Embryophyta; Tracheophyta;\n",
      "            Spermatophyta; Magnoliopsida; eudicotyledons; Gunneridae;\n",
      "            Pentapetalae; asterids; campanulids; Asterales; Asteraceae;\n",
      "            Asteroideae; Heliantheae alliance; Heliantheae; Echinacea.\n",
      "REFERENCE   1  (bases 1 to 1015)\n",
      "  AUTHORS   Flagel,L.E., Rapp,R.A., Grover,C.E., Widrlechner,M.P., Hawkins,J.,\n",
      "            Grafenberg,J.L., Alvarez,I., Chung,G.Y. and Wendel,J.F.\n",
      "  TITLE     Phylogenetic, morphological, and chemotaxonomic incongruence in the\n",
      "            North American endemic genus Echinacea\n",
      "  JOURNAL   Am. J. Bot. 95 (6), 756-765 (2008)\n",
      "   PUBMED   21632401\n",
      "REFERENCE   2  (bases 1 to 1015)\n",
      "  AUTHORS   Flagel,L.E., Rapp,R.A., Grover,C.E., Widrlechner,M.P., Hawkins,J.,\n",
      "            Grafenberg,J.L., Alvarez Fernandez,I., Chung,G.Y. and Wendel,J.F.\n",
      "  TITLE     Direct Submission\n",
      "  JOURNAL   Submitted (24-JAN-2008) Department of Ecology, Evolution, and\n",
      "            Organismal Biology, Iowa State University, Ames, IA 50011, USA\n",
      "FEATURES             Location/Qualifiers\n",
      "     source          1..1015\n",
      "                     /organism=\"Echinacea purpurea\"\n",
      "                     /mol_type=\"genomic DNA\"\n",
      "                     /isolate=\"104A\"\n",
      "                     /db_xref=\"taxon:53751\"\n",
      "                     /collection_date=\"2005\"\n",
      "     gene            <132..>686\n",
      "                     /gene=\"GPAT\"\n",
      "                     /allele=\"a\"\n",
      "     mRNA            join(<132..188,264..365,441..502,578..>686)\n",
      "                     /gene=\"GPAT\"\n",
      "                     /allele=\"a\"\n",
      "                     /product=\"glycerol-3-phosphate acyltransferase\"\n",
      "     CDS             join(<132..188,264..365,441..502,578..>686)\n",
      "                     /gene=\"GPAT\"\n",
      "                     /allele=\"a\"\n",
      "                     /codon_start=1\n",
      "                     /product=\"glycerol-3-phosphate acyltransferase\"\n",
      "                     /protein_id=\"ACA09566.1\"\n",
      "                     /translation=\"ESYVGNVSLFSEMEEQLKQGENVILISNHQSEADPAVIALLLET\n",
      "                     TNPHISENIIYVAGDRVITDPLCKPFSMGRNLLCVYSKKHMNDVPELADMKRRANTRS\n",
      "                     LKEMALLL\"\n",
      "ORIGIN      \n",
      "        1 tagttaacaa tttttgtctt gattctcatt gttgtatata gtggactttc tccatttagc\n",
      "       61 tctaccgtat tacacaataa actttaaagg agcgtgtaag tatcatgact tagtcgtatc\n",
      "      121 tgattatcag ggaatcatat gttggcaacg tctctctttt cagtgaaatg gaagaacagc\n",
      "      181 tcaagcaggt gccttgtttc ttatgtaaaa ttttgattat tttttaagat cctaatattt\n",
      "      241 acttttatta ttaaaaccat cagggtgaaa atgtgatttt aatctcaaac caccaatcag\n",
      "      301 aagcagatcc agctgttatt gccttgttgc ttgaaacaac aaatcctcat atttctgaga\n",
      "      361 acatagtaag ccctctataa attaatgcca catacaatga aatgttcact tgagttcaat\n",
      "      421 atttgattac tgtaatgcag atctatgtgg caggggacag agtcataaca gatcctcttt\n",
      "      481 gtaagccttt cagcatggga aggttctcat ttactttcta atccgacata acactcaagc\n",
      "      541 attcatatag ttgtcctgat atgaacttac accataggaa cttattgtgc gtatattcaa\n",
      "      601 agaaacatat gaacgatgtt cctgagcttg ctgatatgaa acggagagca aatacaagaa\n",
      "      661 gtttaaaaga gatggctttg cttttgaggt atctactatc ctttccttaa gttattaaaa\n",
      "      721 tttaagtcgg aacttccttg tgtttgtaaa ttcgtagctg ttataagatg ttttgtctca\n",
      "      781 attctttaaa tacattacgc acagataaat ttctcatcat aatggagcgt gcttcgatca\n",
      "      841 aattaagtat gcatgtatct tttatgattt tataatgtat gctaccttcc aaatttgggc\n",
      "      901 ttttttgtct ttacattttt aaatactcta ccccttttga tcaattgtta ttcaagcaac\n",
      "      961 ttcaatgttg tttaatctta ttaaattatt atatagcttt agttttttaa ttcta\n",
      "//\n",
      "\n",
      "\n"
     ]
    }
   ],
   "source": [
    "from Bio import Entrez\n",
    "\n",
    "Entrez.email = \"localuser@localhost.localdomain\" #Mandatory! Can be replaced with your personal email.\n",
    "\n",
    "#creating EFetch handle\n",
    "\n",
    "efetch_handle = Entrez.efetch(db=\"nuccore\", id=\"167888124\", rettype=\"gb\", retmode=\"text\")\n",
    "\n",
    "gbrecord = efetch_handle.read()\n",
    "\n",
    "print(gbrecord)\n",
    "\n",
    "efetch_handle.close() #always close your handle after you finish"
   ]
  },
  {
   "cell_type": "code",
   "execution_count": 5,
   "metadata": {},
   "outputs": [
    {
     "name": "stdout",
     "output_type": "stream",
     "text": [
      ">EU423812.1 Echinacea purpurea isolate 104A glycerol-3-phosphate acyltransferase (GPAT) gene, GPAT-a allele, partial cds\n",
      "TAGTTAACAATTTTTGTCTTGATTCTCATTGTTGTATATAGTGGACTTTCTCCATTTAGCTCTACCGTAT\n",
      "TACACAATAAACTTTAAAGGAGCGTGTAAGTATCATGACTTAGTCGTATCTGATTATCAGGGAATCATAT\n",
      "GTTGGCAACGTCTCTCTTTTCAGTGAAATGGAAGAACAGCTCAAGCAGGTGCCTTGTTTCTTATGTAAAA\n",
      "TTTTGATTATTTTTTAAGATCCTAATATTTACTTTTATTATTAAAACCATCAGGGTGAAAATGTGATTTT\n",
      "AATCTCAAACCACCAATCAGAAGCAGATCCAGCTGTTATTGCCTTGTTGCTTGAAACAACAAATCCTCAT\n",
      "ATTTCTGAGAACATAGTAAGCCCTCTATAAATTAATGCCACATACAATGAAATGTTCACTTGAGTTCAAT\n",
      "ATTTGATTACTGTAATGCAGATCTATGTGGCAGGGGACAGAGTCATAACAGATCCTCTTTGTAAGCCTTT\n",
      "CAGCATGGGAAGGTTCTCATTTACTTTCTAATCCGACATAACACTCAAGCATTCATATAGTTGTCCTGAT\n",
      "ATGAACTTACACCATAGGAACTTATTGTGCGTATATTCAAAGAAACATATGAACGATGTTCCTGAGCTTG\n",
      "CTGATATGAAACGGAGAGCAAATACAAGAAGTTTAAAAGAGATGGCTTTGCTTTTGAGGTATCTACTATC\n",
      "CTTTCCTTAAGTTATTAAAATTTAAGTCGGAACTTCCTTGTGTTTGTAAATTCGTAGCTGTTATAAGATG\n",
      "TTTTGTCTCAATTCTTTAAATACATTACGCACAGATAAATTTCTCATCATAATGGAGCGTGCTTCGATCA\n",
      "AATTAAGTATGCATGTATCTTTTATGATTTTATAATGTATGCTACCTTCCAAATTTGGGCTTTTTTGTCT\n",
      "TTACATTTTTAAATACTCTACCCCTTTTGATCAATTGTTATTCAAGCAACTTCAATGTTGTTTAATCTTA\n",
      "TTAAATTATTATATAGCTTTAGTTTTTTAATTCTA\n",
      "\n",
      "\n"
     ]
    }
   ],
   "source": [
    "from Bio import Entrez\n",
    "\n",
    "Entrez.email = \"localuser@localhost.localdomain\" #Mandatory! Can be replaced with your personal email.\n",
    "\n",
    "#creating EFetch handle\n",
    "\n",
    "efetch_handle = Entrez.efetch(db=\"nuccore\", id=\"167888124\", rettype=\"fasta\", retmode=\"text\")\n",
    "\n",
    "fasta_record = efetch_handle.read()\n",
    "\n",
    "print(fasta_record)\n",
    "\n",
    "efetch_handle.close() #always close your handle after you finish"
   ]
  },
  {
   "cell_type": "code",
   "execution_count": 6,
   "metadata": {},
   "outputs": [
    {
     "name": "stdout",
     "output_type": "stream",
     "text": [
      "Echinacea purpurea isolate 104A glycerol-3-phosphate acyltransferase (GPAT) gene.fasta Saved\n"
     ]
    }
   ],
   "source": [
    "import os # import os module for OS utilities\n",
    "from Bio import Entrez\n",
    "Entrez.email = \"localuser@localhost.localdomain\" #Mandatory! Can be replaced with your personal email.\n",
    "\n",
    "#creating EFetch handle\n",
    "filename = \"Echinacea purpurea isolate 104A glycerol-3-phosphate acyltransferase (GPAT) gene.fasta\" #up to you, but FASTA files always use *.fasta or *.fas \n",
    "\n",
    "#creating EFetch handle\n",
    "if not os.path.isfile(filename):\n",
    "    # Downloading file...\n",
    "    efetch_handle = Entrez.efetch(db=\"nuccore\", id=\"167888124\", rettype=\"fasta\", retmode=\"text\")\n",
    "    output_file_handle = open(filename, \"w\")\n",
    "    output_file_handle.write(efetch_handle.read())\n",
    "    output_file_handle.close()\n",
    "    efetch_handle.close()\n",
    "    print((str(filename)) + \" Saved\")\n",
    "else:\n",
    "    print((str(filename)) + \" is existing. File cannot be saved!\")"
   ]
  },
  {
   "cell_type": "code",
   "execution_count": 7,
   "metadata": {},
   "outputs": [
    {
     "name": "stdout",
     "output_type": "stream",
     "text": [
      "Echinacea purpurea isolate 104A glycerol-3-phosphate acyltransferase (GPAT) gene 2.gbk Saved\n"
     ]
    }
   ],
   "source": [
    "import os # import os module for OS utilities\n",
    "from Bio import Entrez, SeqIO\n",
    "Entrez.email = \"localuser@localhost.localdomain\" #Mandatory! Can be replaced with your personal email.\n",
    "\n",
    "#creating EFetch handle\n",
    "filename = \"Echinacea purpurea isolate 104A glycerol-3-phosphate acyltransferase (GPAT) gene 2.gbk\" \n",
    "#creating EFetch handle\n",
    "if not os.path.isfile(filename):\n",
    "    # Downloading file...\n",
    "    efetch_handle = Entrez.efetch(db=\"nuccore\", id=\"167888124\", rettype=\"gb\", retmode=\"text\")\n",
    "    output_file_handle = open(filename, \"w\")\n",
    "    output_file_handle.write(efetch_handle.read())\n",
    "    output_file_handle.close()\n",
    "    efetch_handle.close()\n",
    "    print((str(filename)) + \" Saved\")\n",
    "else:\n",
    "    print((str(filename)) + \" is existing. File cannot be saved!\")"
   ]
  },
  {
   "cell_type": "code",
   "execution_count": 8,
   "metadata": {},
   "outputs": [],
   "source": [
    "GoI = \"GPAT\" #change \" rbcL\" here with your GoI\n",
    "\n",
    "for genome in SeqIO.parse(\"Echinacea purpurea isolate 104A glycerol-3-phosphate acyltransferase (GPAT) gene 2.gbk\",\"genbank\"):\n",
    "    for gene in genome.features:\n",
    "        if gene.type != \"CDS\":\n",
    "            continue\n",
    "        if \"gene\" not in gene.qualifiers:\n",
    "            continue\n",
    "        if GoI not in gene.qualifiers[\"gene\"][0]: \n",
    "            continue\n",
    "        gene_seq = gene.extract(genome.seq)\n",
    "\n",
    "GoI_fasta = \">%s|%s\\n%s\" % (GoI, genome.description, gene_seq)\n",
    "with open(\"GoI_fasta.fasta\",\"w\") as f:\n",
    "    f.write(GoI_fasta)"
   ]
  },
  {
   "cell_type": "code",
   "execution_count": null,
   "metadata": {},
   "outputs": [],
   "source": []
  }
 ],
 "metadata": {
  "kernelspec": {
   "display_name": "Python 3",
   "language": "python",
   "name": "python3"
  },
  "language_info": {
   "codemirror_mode": {
    "name": "ipython",
    "version": 3
   },
   "file_extension": ".py",
   "mimetype": "text/x-python",
   "name": "python",
   "nbconvert_exporter": "python",
   "pygments_lexer": "ipython3",
   "version": "3.7.4"
  }
 },
 "nbformat": 4,
 "nbformat_minor": 4
}
